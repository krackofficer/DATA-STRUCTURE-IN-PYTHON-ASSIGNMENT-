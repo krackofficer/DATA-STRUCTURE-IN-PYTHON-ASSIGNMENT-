{
 "cells": [
  {
   "cell_type": "markdown",
   "id": "78fd26f9-aded-467c-97dd-9ceb14f03ad1",
   "metadata": {},
   "source": [
    "# Data Structures In Python Assignment \n"
   ]
  },
  {
   "cell_type": "markdown",
   "id": "263a2faf-833b-4f8d-b7ad-6f552de0b8a7",
   "metadata": {},
   "source": [
    "## 1. Write a code to reverse a string.\n"
   ]
  },
  {
   "cell_type": "code",
   "execution_count": 5,
   "id": "54b9c786-233a-426c-9f53-134f7128f94b",
   "metadata": {},
   "outputs": [
    {
     "name": "stdout",
     "output_type": "stream",
     "text": [
      "Reversed String: reciffokcark olleh\n"
     ]
    }
   ],
   "source": [
    "input_string = \"hello krackofficer\"\n",
    "reversed_string = input_string[::-1]\n",
    "print(\"Reversed String:\", reversed_string)"
   ]
  },
  {
   "cell_type": "markdown",
   "id": "382e72a3-99e0-4aba-b87f-a212b8268f3b",
   "metadata": {},
   "source": [
    "## 2. Write a code to count the number of vowels in a string."
   ]
  },
  {
   "cell_type": "code",
   "execution_count": 8,
   "id": "cfdee4f8-ac1d-436b-b96c-03477b0856a6",
   "metadata": {},
   "outputs": [
    {
     "name": "stdout",
     "output_type": "stream",
     "text": [
      "Number of vowels: 6\n"
     ]
    }
   ],
   "source": [
    "input_string = \"hello krackofficer\"\n",
    "vowels = \"aeiouAEIOU\"\n",
    "\n",
    "\n",
    "vowel_count = 0    # Initialize a counter\n",
    "\n",
    "for char in input_string:     # Loop through each character in the string\n",
    "    if char in vowels:\n",
    "        vowel_count += 1\n",
    "\n",
    "print(\"Number of vowels:\", vowel_count)"
   ]
  },
  {
   "cell_type": "markdown",
   "id": "21c25030-5a1a-4289-bbe8-7e754cb03984",
   "metadata": {},
   "source": [
    "## 3. Write a code to check if a given string is a palindrome or not."
   ]
  },
  {
   "cell_type": "markdown",
   "id": "9fdf06ab-005c-415f-a8c5-07d9e6b3a9eb",
   "metadata": {},
   "source": [
    "#### A palindrome reads the same forwards and backwards (like \"madam\" or \"racecar\")."
   ]
  },
  {
   "cell_type": "code",
   "execution_count": 12,
   "id": "e40c2108-fcc6-42ce-9756-f3958b4f9ac9",
   "metadata": {},
   "outputs": [
    {
     "name": "stdout",
     "output_type": "stream",
     "text": [
      "The string is a palindrome.\n"
     ]
    }
   ],
   "source": [
    "input_string = \"madam\"\n",
    "reversed_string = input_string[::-1]\n",
    "\n",
    "if input_string == reversed_string:      # Compare and check for palindrome\n",
    "    print(\"The string is a palindrome.\")\n",
    "else:\n",
    "    print(\"The string is not a palindrome.\")"
   ]
  },
  {
   "cell_type": "markdown",
   "id": "6aa180ab-caa2-466e-9229-b23a2f8bd822",
   "metadata": {},
   "source": [
    "## 4.  Write a code to check if two given strings are anagrams of each other."
   ]
  },
  {
   "cell_type": "markdown",
   "id": "01bfc652-0167-4be6-bc74-2cf9812bcebf",
   "metadata": {},
   "source": [
    "#### Anagrams mean the two strings have the same characters in different orders (like \"listen\" and \"silent\")."
   ]
  },
  {
   "cell_type": "code",
   "execution_count": 17,
   "id": "23e712eb-f419-4612-a91a-b9e3cd40600f",
   "metadata": {},
   "outputs": [
    {
     "name": "stdout",
     "output_type": "stream",
     "text": [
      "The strings are anagrams.\n"
     ]
    }
   ],
   "source": [
    "string1 = \"listen\"\n",
    "string2 = \"silent\"\n",
    "\n",
    "if sorted(string1) == sorted(string2):     #  Sort both strings and compare\n",
    "    print(\"The strings are anagrams.\")\n",
    "else:\n",
    "    print(\"The strings are not anagrams.\")"
   ]
  },
  {
   "cell_type": "markdown",
   "id": "28243e3b-97c5-41d9-b91d-03c362f7135c",
   "metadata": {},
   "source": [
    "## 5.  Write a code to find all occurrences of a given substring within another string."
   ]
  },
  {
   "cell_type": "code",
   "execution_count": 20,
   "id": "b43f116c-bc73-4915-9ce6-2aea932626ef",
   "metadata": {},
   "outputs": [
    {
     "name": "stdout",
     "output_type": "stream",
     "text": [
      "Occurrences at indices: [4, 25]\n"
     ]
    }
   ],
   "source": [
    "main_string = \"the cat chased the other cat\"\n",
    "substring = \"cat\"\n",
    "\n",
    "positions = []  # Initialize an empty list to store the positions\n",
    "\n",
    "for i in range(len(main_string) - len(substring) + 1):     # Loop through the main string\n",
    "    if main_string[i:i+len(substring)] == substring:\n",
    "        positions.append(i)\n",
    "\n",
    "print(\"Occurrences at indices:\", positions)"
   ]
  },
  {
   "cell_type": "markdown",
   "id": "ffd59fc1-b7a1-4b39-80f3-79ccb4fabd05",
   "metadata": {},
   "source": [
    "## 6. Write a code to perform basic string compression using the counts of repeated characters."
   ]
  },
  {
   "cell_type": "code",
   "execution_count": 23,
   "id": "c87bae60-a9c8-44f7-983d-e0069a5732e1",
   "metadata": {},
   "outputs": [
    {
     "name": "stdout",
     "output_type": "stream",
     "text": [
      "Compressed String: a3b2c4\n"
     ]
    }
   ],
   "source": [
    "input_string = \"aaabbcccc\"\n",
    "\n",
    "compressed = \"\"   # Initialize variables\n",
    "count = 1\n",
    "for i in range(1, len(input_string)):      # Loop through the string\n",
    "    if input_string[i] == input_string[i-1]:\n",
    "        count += 1\n",
    "    else:\n",
    "        compressed += input_string[i-1] + str(count)\n",
    "        count = 1\n",
    "\n",
    "compressed += input_string[-1] + str(count)  # Add the last group\n",
    "\n",
    "print(\"Compressed String:\", compressed)"
   ]
  },
  {
   "cell_type": "markdown",
   "id": "7f3ec950-efc8-494e-a510-c550f0cf8ded",
   "metadata": {},
   "source": [
    "## 7.  Write a code to determine if a string has all unique characters.\n"
   ]
  },
  {
   "cell_type": "code",
   "execution_count": 26,
   "id": "95ad4d14-1c9c-4643-9b05-4b01d8d906d9",
   "metadata": {},
   "outputs": [
    {
     "name": "stdout",
     "output_type": "stream",
     "text": [
      "The string has all unique characters.\n"
     ]
    }
   ],
   "source": [
    "input_string = \"abcdefg\"\n",
    "\n",
    "seen_characters = set() # Initialize an empty set\n",
    "\n",
    "is_unique = True         # Loop through each character\n",
    "for char in input_string:\n",
    "    if char in seen_characters:\n",
    "        is_unique = False\n",
    "        break\n",
    "    seen_characters.add(char)\n",
    "\n",
    "if is_unique:\n",
    "    print(\"The string has all unique characters.\")\n",
    "else:\n",
    "    print(\"The string does not have all unique characters.\")"
   ]
  },
  {
   "cell_type": "markdown",
   "id": "a4f56923-92ed-41b2-b663-3dd6f9596d5d",
   "metadata": {},
   "source": [
    "## 8.  Write a code to convert a given string to uppercase or lowercase."
   ]
  },
  {
   "cell_type": "code",
   "execution_count": 29,
   "id": "fcfbaa91-a82a-49b8-a09e-a22785462289",
   "metadata": {},
   "outputs": [
    {
     "name": "stdout",
     "output_type": "stream",
     "text": [
      "Uppercase: KRACKOFFICER\n",
      "Lowercase: krackofficer\n"
     ]
    }
   ],
   "source": [
    "input_string = \"kracKofficeR\"\n",
    "\n",
    "uppercase_string = input_string.upper()  # Convert to uppercase\n",
    "lowercase_string = input_string.lower()  # Convert to lowercase\n",
    "\n",
    "print(\"Uppercase:\", uppercase_string)\n",
    "print(\"Lowercase:\", lowercase_string)\n"
   ]
  },
  {
   "cell_type": "markdown",
   "id": "91db5f85-4040-4966-95de-259700d9c476",
   "metadata": {},
   "source": [
    "## 9.  Write a code to count the number of words in a string."
   ]
  },
  {
   "cell_type": "code",
   "execution_count": 32,
   "id": "7892c0bd-9332-474f-891a-d4bed1a5f5c8",
   "metadata": {},
   "outputs": [
    {
     "name": "stdout",
     "output_type": "stream",
     "text": [
      "Number of words: 6\n"
     ]
    }
   ],
   "source": [
    "input_string = \"Hello world, welcome to Python programming\"\n",
    "\n",
    "words = input_string.split() # Split the string into words\n",
    "\n",
    "word_count = len(words)  # Count the words\n",
    "\n",
    "print(\"Number of words:\", word_count)"
   ]
  },
  {
   "cell_type": "markdown",
   "id": "d8725988-9a93-4373-a6e7-a567010680a7",
   "metadata": {},
   "source": [
    "## 10.  Write a code to concatenate two strings without using the + operator."
   ]
  },
  {
   "cell_type": "code",
   "execution_count": 35,
   "id": "8a6b7fee-6b4c-4095-b069-c0eaec4db40c",
   "metadata": {},
   "outputs": [
    {
     "name": "stdout",
     "output_type": "stream",
     "text": [
      "Concatenated String: HelloWorld\n"
     ]
    }
   ],
   "source": [
    "string1 = \"Hello\"\n",
    "string2 = \"World\"\n",
    "\n",
    "result = ''.join([string1, string2])  # Concatenate using join()\n",
    "\n",
    "print(\"Concatenated String:\", result)"
   ]
  },
  {
   "cell_type": "code",
   "execution_count": 37,
   "id": "5fb90326-1d40-4547-ba13-791db2c80360",
   "metadata": {},
   "outputs": [
    {
     "name": "stdout",
     "output_type": "stream",
     "text": [
      "Concatenated String: HelloWorld\n"
     ]
    }
   ],
   "source": [
    "# Alternative Method: (using f-string)\n",
    "result = f\"{string1}{string2}\"\n",
    "print(\"Concatenated String:\", result)\n"
   ]
  },
  {
   "cell_type": "markdown",
   "id": "b69a19c9-d0ed-4fed-b212-0fcf66d58489",
   "metadata": {},
   "source": [
    "## 11.  Write a code to remove all occurrences of a specific element from a list."
   ]
  },
  {
   "cell_type": "code",
   "execution_count": 40,
   "id": "f8ad64b5-9a40-45fd-9df0-bef7e910afa4",
   "metadata": {},
   "outputs": [
    {
     "name": "stdout",
     "output_type": "stream",
     "text": [
      "List after removing element: [1, 3, 4, 5]\n"
     ]
    }
   ],
   "source": [
    "input_list = [1, 2, 3, 2, 4, 2, 5]\n",
    "element_to_remove = 2\n",
    "\n",
    "new_list = [item for item in input_list if item != element_to_remove]  # Create a new list without the unwanted element\n",
    "\n",
    "print(\"List after removing element:\", new_list)\n"
   ]
  },
  {
   "cell_type": "markdown",
   "id": "7b3d5031-70d3-453a-9a12-616e765ae879",
   "metadata": {},
   "source": [
    "## 12.  Implement a code to find the second largest number in a given list of integers."
   ]
  },
  {
   "cell_type": "code",
   "execution_count": 43,
   "id": "13f66251-53aa-4e28-becd-df810a0ce8fa",
   "metadata": {},
   "outputs": [
    {
     "name": "stdout",
     "output_type": "stream",
     "text": [
      "Second largest number: 6\n"
     ]
    }
   ],
   "source": [
    "input_list = [5, 2, 9, 1, 5, 6]\n",
    "\n",
    "unique_list = list(set(input_list))  # Remove duplicates\n",
    "unique_list.sort()      # Sort the list\n",
    "\n",
    "second_largest = unique_list[-2]  # the second largest element\n",
    "\n",
    "print(\"Second largest number:\", second_largest)"
   ]
  },
  {
   "cell_type": "code",
   "execution_count": 45,
   "id": "a7d4f459-2550-432c-8afa-c387fff565a5",
   "metadata": {},
   "outputs": [
    {
     "name": "stdout",
     "output_type": "stream",
     "text": [
      "Second largest number: 45\n"
     ]
    }
   ],
   "source": [
    "numbers = [10, 20, 4, 45, 99, 99]\n",
    "unique_numbers = list(set(numbers))\n",
    "\n",
    "unique_numbers.sort()\n",
    "\n",
    "\n",
    "if len(unique_numbers) >= 2:      #  the second largest\n",
    "    second_largest = unique_numbers[-2]\n",
    "    print(\"Second largest number:\", second_largest)\n",
    "else:\n",
    "    print(\"List does not have enough unique numbers.\")\n"
   ]
  },
  {
   "cell_type": "markdown",
   "id": "f728606e-03d3-4973-aa5e-f4a28f686129",
   "metadata": {},
   "source": [
    "## 13. Create a code to count the occurrences of each element in a list and return a dictionary with elements as keys and their counts as values."
   ]
  },
  {
   "cell_type": "code",
   "execution_count": 48,
   "id": "8ac4514d-2cbb-41cb-be6f-355bbd914422",
   "metadata": {},
   "outputs": [
    {
     "name": "stdout",
     "output_type": "stream",
     "text": [
      "Element counts: {'apple': 3, 'banana': 2, 'orange': 1}\n"
     ]
    }
   ],
   "source": [
    "input_list = ['apple', 'banana', 'apple', 'orange', 'banana', 'apple']\n",
    "\n",
    "\n",
    "count_dict = {}   #  Create an empty dictionary\n",
    "\n",
    "\n",
    "for item in input_list:        # Loop through each element in the list\n",
    "    if item in count_dict:\n",
    "        count_dict[item] += 1\n",
    "    else:\n",
    "        count_dict[item] = 1\n",
    "\n",
    "print(\"Element counts:\", count_dict)\n"
   ]
  },
  {
   "cell_type": "markdown",
   "id": "a9edf7a6-33cf-4ba9-a44b-769bdc90ce42",
   "metadata": {},
   "source": [
    "## 14.  Write a code to reverse a list in-place without using any built-in reverse functions."
   ]
  },
  {
   "cell_type": "code",
   "execution_count": 51,
   "id": "a2d0a3e1-5eec-4ac6-b602-3a4a1809a986",
   "metadata": {},
   "outputs": [
    {
     "name": "stdout",
     "output_type": "stream",
     "text": [
      "Reversed List: [5, 4, 3, 2, 1]\n"
     ]
    }
   ],
   "source": [
    "input_list = [1, 2, 3, 4, 5]\n",
    "\n",
    "\n",
    "start = 0                   # Use two pointers approach\n",
    "end = len(input_list) - 1\n",
    "\n",
    "while start < end:\n",
    "    \n",
    "    input_list[start], input_list[end] = input_list[end], input_list[start]  # Swap elements\n",
    "    \n",
    "    start += 1          # Move the pointers\n",
    "    end -= 1\n",
    "\n",
    "print(\"Reversed List:\", input_list)\n"
   ]
  },
  {
   "cell_type": "markdown",
   "id": "82a43430-e650-442e-b9a3-f1544a6b9fb5",
   "metadata": {},
   "source": [
    "## 15.  Implement a code to find and remove duplicates from a list while preserving the original order of elements."
   ]
  },
  {
   "cell_type": "code",
   "execution_count": 54,
   "id": "7630b8f3-7c3f-4b7b-8768-d4716fa06986",
   "metadata": {},
   "outputs": [
    {
     "name": "stdout",
     "output_type": "stream",
     "text": [
      "List after removing duplicates: [1, 2, 3, 4, 5]\n"
     ]
    }
   ],
   "source": [
    "input_list = [1, 2, 2, 3, 4, 3, 5, 1]\n",
    "\n",
    "\n",
    "unique_list = []      #  Initialize an empty list and a set\n",
    "seen = set()\n",
    "\n",
    "for item in input_list:    #  Loop through the list\n",
    "    if item not in seen:\n",
    "        unique_list.append(item)\n",
    "        seen.add(item)\n",
    "\n",
    "print(\"List after removing duplicates:\", unique_list)\n"
   ]
  },
  {
   "cell_type": "markdown",
   "id": "8cb335f1-840c-4188-8250-9f6668b702fd",
   "metadata": {},
   "source": [
    "## 16. Create a code to check if a given list is sorted (either in ascending or descending order) or not."
   ]
  },
  {
   "cell_type": "code",
   "execution_count": 57,
   "id": "fded4d42-a152-4a8b-83e7-caec62b84e93",
   "metadata": {},
   "outputs": [
    {
     "name": "stdout",
     "output_type": "stream",
     "text": [
      "The list is sorted in descending order.\n"
     ]
    }
   ],
   "source": [
    "input_list = [5, 4, 3, 2, 1]\n",
    "\n",
    "if input_list == sorted(input_list):   # Check if sorted in ascending order\n",
    "    print(\"The list is sorted in ascending order.\")\n",
    "\n",
    "elif input_list == sorted(input_list, reverse=True):      # Check if sorted in descending order\n",
    "    print(\"The list is sorted in descending order.\")\n",
    "else:\n",
    "    print(\"The list is not sorted.\")\n"
   ]
  },
  {
   "cell_type": "markdown",
   "id": "6e9c2d9c-9e26-43fd-bb91-d9c37f7cc14d",
   "metadata": {},
   "source": [
    "## 17.  Write a code to merge two sorted lists into a single sorted list."
   ]
  },
  {
   "cell_type": "code",
   "execution_count": 60,
   "id": "e9b27b30-ab26-424c-b453-0e451c81646d",
   "metadata": {},
   "outputs": [
    {
     "name": "stdout",
     "output_type": "stream",
     "text": [
      "Merged Sorted List: [1, 2, 3, 4, 5, 6, 7, 8]\n"
     ]
    }
   ],
   "source": [
    "list1 = [1, 3, 5, 7]\n",
    "list2 = [2, 4, 6, 8]\n",
    "\n",
    "i = 0             # Initialize pointers\n",
    "j = 0\n",
    "merged_list = []\n",
    "\n",
    "while i < len(list1) and j < len(list2):   #  Merge the two lists\n",
    "    if list1[i] < list2[j]:\n",
    "        merged_list.append(list1[i])\n",
    "        i += 1\n",
    "    else:\n",
    "        merged_list.append(list2[j])\n",
    "        j += 1\n",
    "\n",
    "merged_list.extend(list1[i:])       # Add remaining elements \n",
    "merged_list.extend(list2[j:])\n",
    "\n",
    "print(\"Merged Sorted List:\", merged_list)\n"
   ]
  },
  {
   "cell_type": "markdown",
   "id": "d57bee3c-c1fb-40a2-90e1-a4f028cc6eca",
   "metadata": {},
   "source": [
    "## 18.  Implement a code to find the intersection of two given lists."
   ]
  },
  {
   "cell_type": "code",
   "execution_count": 63,
   "id": "809ec080-9851-4da8-8fd5-e52c5df8d211",
   "metadata": {},
   "outputs": [
    {
     "name": "stdout",
     "output_type": "stream",
     "text": [
      "Intersection of two lists: [4, 5]\n"
     ]
    }
   ],
   "source": [
    "list1 = [1, 2, 3, 4, 5]\n",
    "list2 = [4, 5, 6, 7, 8]\n",
    "\n",
    "\n",
    "intersection = [item for item in list1 if item in list2]         #  Find intersection\n",
    "\n",
    "print(\"Intersection of two lists:\", intersection)\n"
   ]
  },
  {
   "cell_type": "markdown",
   "id": "dc33da6b-61ac-4c9c-9f7e-37d2a776cc18",
   "metadata": {},
   "source": [
    "## 19. Create a code to find the union of two lists without duplicates."
   ]
  },
  {
   "cell_type": "code",
   "execution_count": 66,
   "id": "e01e6a77-6245-4ba4-aed8-293cd44f4d38",
   "metadata": {},
   "outputs": [
    {
     "name": "stdout",
     "output_type": "stream",
     "text": [
      "Union of two lists: [1, 2, 3, 4, 5, 6]\n"
     ]
    }
   ],
   "source": [
    "list1 = [1, 2, 3, 4]\n",
    "list2 = [3, 4, 5, 6]\n",
    "\n",
    "union_list = list(set(list1 + list2))\n",
    "\n",
    "print(\"Union of two lists:\", union_list)\n"
   ]
  },
  {
   "cell_type": "markdown",
   "id": "f5a312e8-1e22-4e22-843f-815da31b1969",
   "metadata": {},
   "source": [
    "## 20. Write a code to shuffle a given list randomly without using any built-in shuffle functions."
   ]
  },
  {
   "cell_type": "code",
   "execution_count": 69,
   "id": "25c523df-d79a-4f95-88e9-5ec89e739974",
   "metadata": {},
   "outputs": [
    {
     "name": "stdout",
     "output_type": "stream",
     "text": [
      "Shuffled List: [4, 1, 2, 3, 5]\n"
     ]
    }
   ],
   "source": [
    "import random\n",
    "\n",
    "input_list = [1, 2, 3, 4, 5]\n",
    "\n",
    "shuffled_list = []         # Create an empty list for shuffled elements\n",
    "\n",
    "while input_list:                 # Shuffle manually\n",
    "    index = random.randint(0, len(input_list) - 1)\n",
    "    shuffled_list.append(input_list.pop(index))\n",
    "\n",
    "print(\"Shuffled List:\", shuffled_list)\n"
   ]
  },
  {
   "cell_type": "markdown",
   "id": "567ddef7-4a21-4bf6-a66a-f35bcd4b517b",
   "metadata": {},
   "source": [
    "## 21.  Write a code that takes two tuples as input and returns a new tuple containing elements that are common to both input tuples."
   ]
  },
  {
   "cell_type": "code",
   "execution_count": 72,
   "id": "e68e94b7-900a-4689-b1ed-5dacea0259d4",
   "metadata": {},
   "outputs": [
    {
     "name": "stdout",
     "output_type": "stream",
     "text": [
      "Common elements tuple: (3, 4)\n"
     ]
    }
   ],
   "source": [
    "tuple1 = (1, 2, 3, 4)\n",
    "tuple2 = (3, 4, 5, 6)\n",
    "\n",
    "common_elements = tuple(set(tuple1) & set(tuple2))      # Find common elements using set intersection\n",
    "\n",
    "print(\"Common elements tuple:\", common_elements)\n"
   ]
  },
  {
   "cell_type": "markdown",
   "id": "fd744f15-ec7f-4e21-aecd-ed3510d84662",
   "metadata": {},
   "source": [
    "## 22.  Create a code that prompts the user to enter two sets of integers separated by commas. Then, print the intersection of these two sets."
   ]
  },
  {
   "cell_type": "code",
   "execution_count": 77,
   "id": "3dd6302e-727a-4ba9-9341-cf8c41e1c744",
   "metadata": {},
   "outputs": [
    {
     "name": "stdin",
     "output_type": "stream",
     "text": [
      "Enter first set of integers separated by commas:  1,2,3,4\n",
      "Enter second set of integers separated by commas:  3,4,5,6\n"
     ]
    },
    {
     "name": "stdout",
     "output_type": "stream",
     "text": [
      "Intersection of sets: {3, 4}\n"
     ]
    }
   ],
   "source": [
    "set1_input = input(\"Enter first set of integers separated by commas: \")\n",
    "set2_input = input(\"Enter second set of integers separated by commas: \")\n",
    "\n",
    "set1 = set(map(int, set1_input.split(',')))     # Convert input strings into sets of integers\n",
    "set2 = set(map(int, set2_input.split(',')))\n",
    "\n",
    "intersection = set1 & set2                  #  Find intersection\n",
    "\n",
    "print(\"Intersection of sets:\", intersection)\n"
   ]
  },
  {
   "cell_type": "markdown",
   "id": "34c7152f-2b73-461d-9e4b-87a2b295ec1c",
   "metadata": {},
   "source": [
    "## 23.  Write a code to concatenate two tuples. The function should take two tuples as input and return a new tuple containing elements from both input tuples."
   ]
  },
  {
   "cell_type": "code",
   "execution_count": 80,
   "id": "17c462cc-e9fe-4a4b-bc0c-5f4a2254297d",
   "metadata": {},
   "outputs": [
    {
     "name": "stdout",
     "output_type": "stream",
     "text": [
      "Concatenated Tuple: (1, 2, 3, 4, 5, 6)\n"
     ]
    }
   ],
   "source": [
    "def concatenate_tuples(tuple1, tuple2):\n",
    "    return tuple1 + tuple2\n",
    "\n",
    "# Example usage\n",
    "tuple1 = (1, 2, 3)\n",
    "tuple2 = (4, 5, 6)\n",
    "\n",
    "# Call the function and print\n",
    "result = concatenate_tuples(tuple1, tuple2)\n",
    "print(\"Concatenated Tuple:\", result)\n"
   ]
  },
  {
   "cell_type": "markdown",
   "id": "5a6ccab3-fa40-41f7-b6c9-925008fed2bb",
   "metadata": {},
   "source": [
    "## 24. Develop a code that prompts the user to input two sets of strings. Then, print the elements that are present in the first set but not in the second set."
   ]
  },
  {
   "cell_type": "code",
   "execution_count": 83,
   "id": "0fdfde47-92c1-4e83-8f9f-9c817f450c4b",
   "metadata": {},
   "outputs": [
    {
     "name": "stdin",
     "output_type": "stream",
     "text": [
      "Enter first set of strings separated by commas:  apple,banana,orange\n",
      "Enter second set of strings separated by commas:  banana,grape\n"
     ]
    },
    {
     "name": "stdout",
     "output_type": "stream",
     "text": [
      "Elements in the first set but not in the second set: {'orange', 'apple'}\n"
     ]
    }
   ],
   "source": [
    "set1_input = input(\"Enter first set of strings separated by commas: \")\n",
    "set2_input = input(\"Enter second set of strings separated by commas: \")\n",
    "\n",
    "set1 = set(set1_input.split(','))           #  Convert input strings into sets\n",
    "set2 = set(set2_input.split(','))\n",
    "\n",
    "difference = set1 - set2\n",
    "\n",
    "print(\"Elements in the first set but not in the second set:\", difference)\n"
   ]
  },
  {
   "cell_type": "markdown",
   "id": "4f569df2-7413-4b7f-8cc3-8b3328357c44",
   "metadata": {},
   "source": [
    "## 25.  Create a code that takes a tuple and two integers as input. The function should return a new tuple containing elements from the original tuple within the specified range of indices."
   ]
  },
  {
   "cell_type": "code",
   "execution_count": 86,
   "id": "68bfe03c-3067-4089-93c2-2e55aa275a8f",
   "metadata": {},
   "outputs": [
    {
     "name": "stdout",
     "output_type": "stream",
     "text": [
      "Sliced Tuple: (20, 30, 40)\n"
     ]
    }
   ],
   "source": [
    "def slice_tuple(input_tuple, start_index, end_index):\n",
    "    return input_tuple[start_index:end_index]\n",
    "\n",
    "#  Example usage\n",
    "input_tuple = (10, 20, 30, 40, 50, 60)\n",
    "start = 1\n",
    "end = 4\n",
    "\n",
    "# Call the function and print\n",
    "result = slice_tuple(input_tuple, start, end)\n",
    "print(\"Sliced Tuple:\", result)\n"
   ]
  },
  {
   "cell_type": "markdown",
   "id": "e361841a-1dcd-4393-a2d3-05ac1680f4e7",
   "metadata": {},
   "source": [
    "## 26.  Write a code that prompts the user to input two sets of characters. Then, print the union of these two sets."
   ]
  },
  {
   "cell_type": "code",
   "execution_count": 89,
   "id": "26973939-bd9a-41de-afce-cd019f3ca958",
   "metadata": {},
   "outputs": [
    {
     "name": "stdin",
     "output_type": "stream",
     "text": [
      "Enter first set of characters separated by commas:  a,b,c\n",
      "Enter second set of characters separated by commas:  c,d,e\n"
     ]
    },
    {
     "name": "stdout",
     "output_type": "stream",
     "text": [
      "Union of the two sets: {'b', 'e', 'a', 'd', 'c'}\n"
     ]
    }
   ],
   "source": [
    "set1_input = input(\"Enter first set of characters separated by commas: \")\n",
    "set2_input = input(\"Enter second set of characters separated by commas: \")\n",
    "\n",
    "set1 = set(set1_input.split(','))        # Convert input strings into sets\n",
    "set2 = set(set2_input.split(','))\n",
    "\n",
    "union_set = set1 | set2\n",
    "\n",
    "print(\"Union of the two sets:\", union_set)\n"
   ]
  },
  {
   "cell_type": "markdown",
   "id": "38a9d06c-ab9b-4681-8310-7fa0190b8ca2",
   "metadata": {},
   "source": [
    "## 27.  Develop a code that takes a tuple of integers as input. The function should return the maximum and minimum values from the tuple using tuple unpacking."
   ]
  },
  {
   "cell_type": "code",
   "execution_count": 92,
   "id": "71f27f7d-dbe8-49b0-b8ab-3b5d7962cfb4",
   "metadata": {},
   "outputs": [
    {
     "name": "stdout",
     "output_type": "stream",
     "text": [
      "Minimum value: 5\n",
      "Maximum value: 20\n"
     ]
    }
   ],
   "source": [
    "def find_min_max(input_tuple):\n",
    "    min_val = min(input_tuple)\n",
    "    max_val = max(input_tuple)\n",
    "    return (min_val, max_val)\n",
    "\n",
    "# Example usage\n",
    "input_tuple = (10, 5, 20, 8, 15)\n",
    "\n",
    "# Call the function and unpack the results\n",
    "minimum, maximum = find_min_max(input_tuple)\n",
    "\n",
    "print(\"Minimum value:\", minimum)\n",
    "print(\"Maximum value:\", maximum)\n"
   ]
  },
  {
   "cell_type": "markdown",
   "id": "f1dd43d4-d432-4301-ba5f-7ce828b80615",
   "metadata": {},
   "source": [
    "## 28.  Create a code that defines two sets of integers. Then, print the union, intersection, and difference of these \n",
    "two sets"
   ]
  },
  {
   "cell_type": "code",
   "execution_count": 96,
   "id": "599131d8-f0c5-45c0-9c83-cdd2d56e31f0",
   "metadata": {},
   "outputs": [
    {
     "name": "stdout",
     "output_type": "stream",
     "text": [
      "Union: {1, 2, 3, 4, 5, 6, 7, 8}\n",
      "Intersection: {4, 5}\n",
      "Difference: {1, 2, 3}\n"
     ]
    }
   ],
   "source": [
    "set1 = {1, 2, 3, 4, 5}\n",
    "set2 = {4, 5, 6, 7, 8}\n",
    "\n",
    "union_set = set1 | set2\n",
    "\n",
    "intersection_set = set1 & set2\n",
    "\n",
    "difference_set = set1 - set2     #  Find difference (elements in set1 but not in set2)\n",
    "\n",
    "print(\"Union:\", union_set)\n",
    "print(\"Intersection:\", intersection_set)\n",
    "print(\"Difference:\", difference_set)\n"
   ]
  },
  {
   "cell_type": "markdown",
   "id": "d436007f-e781-4848-9e00-1a4ef527f2f9",
   "metadata": {},
   "source": [
    "## 29. Write a code that takes a tuple and an element as input. The function should return the count of occurrences of the given element in the tuple"
   ]
  },
  {
   "cell_type": "code",
   "execution_count": 99,
   "id": "43b2a276-0daf-4ab9-89e8-ac1567673ccb",
   "metadata": {},
   "outputs": [
    {
     "name": "stdout",
     "output_type": "stream",
     "text": [
      "The element 2 appears 3 times.\n"
     ]
    }
   ],
   "source": [
    "def count_element(input_tuple, element):\n",
    "    return input_tuple.count(element)\n",
    "\n",
    "# Example usage\n",
    "input_tuple = (1, 2, 3, 2, 4, 2, 5)\n",
    "element_to_count = 2\n",
    "\n",
    "count = count_element(input_tuple, element_to_count)\n",
    "print(f\"The element {element_to_count} appears {count} times.\")\n"
   ]
  },
  {
   "cell_type": "markdown",
   "id": "3f3e0759-e21a-4ace-9ddd-99ffc500a6fe",
   "metadata": {},
   "source": [
    "## 30.  Develop a code that prompts the user to input two sets of strings. Then, print the symmetric difference of these two sets"
   ]
  },
  {
   "cell_type": "code",
   "execution_count": 103,
   "id": "c865d8e8-68de-4ba0-8109-729a6ae9ed2c",
   "metadata": {},
   "outputs": [
    {
     "name": "stdin",
     "output_type": "stream",
     "text": [
      "Enter first set of strings separated by commas:  apple,banana,orange\n",
      "Enter second set of strings separated by commas:  banana,grape,orange\n"
     ]
    },
    {
     "name": "stdout",
     "output_type": "stream",
     "text": [
      "Symmetric Difference: {'grape', 'apple'}\n"
     ]
    }
   ],
   "source": [
    "set1_input = input(\"Enter first set of strings separated by commas: \")\n",
    "set2_input = input(\"Enter second set of strings separated by commas: \")\n",
    "\n",
    "set1 = set(set1_input.split(','))\n",
    "set2 = set(set2_input.split(','))\n",
    "\n",
    "symmetric_diff = set1 ^ set2\n",
    "\n",
    "print(\"Symmetric Difference:\", symmetric_diff)\n"
   ]
  },
  {
   "cell_type": "markdown",
   "id": "6e61f1c9-30b8-480f-a461-cba4e686034e",
   "metadata": {},
   "source": [
    "## 31.  Write a code that takes a list of words as input and returns a dictionary where the keys are unique words and the values are the frequencies of those words in the input list."
   ]
  },
  {
   "cell_type": "code",
   "execution_count": 106,
   "id": "7c34105d-e564-46f2-bbc4-56edce03c3bc",
   "metadata": {},
   "outputs": [
    {
     "name": "stdout",
     "output_type": "stream",
     "text": [
      "Word Frequencies: {'apple': 3, 'banana': 2, 'orange': 1}\n"
     ]
    }
   ],
   "source": [
    "def word_frequency(word_list):\n",
    "    freq_dict = {}\n",
    "    for word in word_list:\n",
    "        if word in freq_dict:\n",
    "            freq_dict[word] += 1\n",
    "        else:\n",
    "            freq_dict[word] = 1\n",
    "    return freq_dict\n",
    "\n",
    "# Example \n",
    "words = [\"apple\", \"banana\", \"apple\", \"orange\", \"banana\", \"apple\"]\n",
    "\n",
    "result = word_frequency(words)\n",
    "print(\"Word Frequencies:\", result)\n"
   ]
  },
  {
   "cell_type": "markdown",
   "id": "4e7bc151-1348-49ac-8323-4f845504608b",
   "metadata": {},
   "source": [
    "## 32. Write a code that takes two dictionaries as input and merges them into a single dictionary. If there are common keys, the values should be added together."
   ]
  },
  {
   "cell_type": "code",
   "execution_count": 109,
   "id": "72625b7f-9066-47bf-bae9-ef13358c36a4",
   "metadata": {},
   "outputs": [
    {
     "name": "stdout",
     "output_type": "stream",
     "text": [
      "Merged Dictionary: {'apple': 2, 'banana': 4, 'orange': 4}\n"
     ]
    }
   ],
   "source": [
    "def merge_dictionaries(dict1, dict2):\n",
    "    merged_dict = dict1.copy()  # Start with a copy of the first dictionary\n",
    "    for key, value in dict2.items():\n",
    "        if key in merged_dict:\n",
    "            merged_dict[key] += value  # Add values if key exists\n",
    "        else:\n",
    "            merged_dict[key] = value  # Add new key-value pair\n",
    "    return merged_dict\n",
    "\n",
    "# Example \n",
    "dict1 = {'apple': 2, 'banana': 3}\n",
    "dict2 = {'banana': 1, 'orange': 4}\n",
    "\n",
    "result = merge_dictionaries(dict1, dict2)\n",
    "print(\"Merged Dictionary:\", result)\n"
   ]
  },
  {
   "cell_type": "markdown",
   "id": "351deba1-6fb7-44b4-a464-6deccb1c843e",
   "metadata": {},
   "source": [
    "## 33. Write a code to access a value in a nested dictionary. The function should take the dictionary and a list of keys as input, and return the corresponding value. If any of the keys do not exist, the function should return None."
   ]
  },
  {
   "cell_type": "code",
   "execution_count": 114,
   "id": "58ec1f5c-f433-4ef7-9f79-8734e2815cc4",
   "metadata": {},
   "outputs": [
    {
     "name": "stdout",
     "output_type": "stream",
     "text": [
      "Value found: 10\n"
     ]
    }
   ],
   "source": [
    "def get_nested_value(nested_dict, keys_list):\n",
    "    current = nested_dict\n",
    "    for key in keys_list:\n",
    "        if isinstance(current, dict) and key in current:\n",
    "            current = current[key]\n",
    "        else:\n",
    "            return None\n",
    "    return current\n",
    "\n",
    "#  Example\n",
    "nested_dict = {\n",
    "    'a': {\n",
    "        'b': {\n",
    "            'c': 10\n",
    "        }\n",
    "    }\n",
    "}\n",
    "keys = ['a', 'b', 'c']\n",
    "\n",
    "result = get_nested_value(nested_dict, keys)\n",
    "print(\"Value found:\", result)\n"
   ]
  },
  {
   "cell_type": "markdown",
   "id": "44dbb668-9e07-4a81-84c8-78849989ce93",
   "metadata": {},
   "source": [
    "## 34. Write a code that takes a dictionary as input and returns a sorted version of it based on the values. You can choose whether to sort in ascending or descending order."
   ]
  },
  {
   "cell_type": "code",
   "execution_count": 117,
   "id": "29ec3811-1f4b-4864-a89c-9a4e6807fee1",
   "metadata": {},
   "outputs": [
    {
     "name": "stdout",
     "output_type": "stream",
     "text": [
      "Sorted Dictionary (Ascending): {'banana': 2, 'apple': 5, 'orange': 8}\n",
      "Sorted Dictionary (Descending): {'orange': 8, 'apple': 5, 'banana': 2}\n"
     ]
    }
   ],
   "source": [
    "def sort_dict_by_values(input_dict, ascending=True):\n",
    "    sorted_items = sorted(input_dict.items(), key=lambda x: x[1], reverse=not ascending)\n",
    "    return dict(sorted_items)\n",
    "\n",
    "#  Example \n",
    "input_dict = {'apple': 5, 'banana': 2, 'orange': 8}\n",
    "\n",
    "sorted_dict_asc = sort_dict_by_values(input_dict, ascending=True)       # For ascending order\n",
    "print(\"Sorted Dictionary (Ascending):\", sorted_dict_asc)\n",
    "\n",
    "sorted_dict_desc = sort_dict_by_values(input_dict, ascending=False)       # For descending order\n",
    "print(\"Sorted Dictionary (Descending):\", sorted_dict_desc)\n"
   ]
  },
  {
   "cell_type": "markdown",
   "id": "5ce19237-0c3c-4dc3-96a2-7be727318907",
   "metadata": {},
   "source": [
    "## 35. Write a code that inverts a dictionary, swapping keys and values. Ensure that the inverted dictionary correctly handles cases where multiple keys have the same value by storing the keys as a list in the inverted dictionary."
   ]
  },
  {
   "cell_type": "code",
   "execution_count": 121,
   "id": "4a35e617-b1aa-4773-8f99-49ec4b46c622",
   "metadata": {},
   "outputs": [
    {
     "name": "stdout",
     "output_type": "stream",
     "text": [
      "Inverted Dictionary: {1: ['a', 'c'], 2: ['b'], 3: ['d']}\n"
     ]
    }
   ],
   "source": [
    "def invert_dictionary(input_dict):\n",
    "    inverted_dict = {}\n",
    "    for key, value in input_dict.items():\n",
    "        if value in inverted_dict:\n",
    "            inverted_dict[value].append(key)\n",
    "        else:\n",
    "            inverted_dict[value] = [key]\n",
    "    return inverted_dict\n",
    "\n",
    "# Example\n",
    "input_dict = {'a': 1, 'b': 2, 'c': 1, 'd': 3}\n",
    "\n",
    "result = invert_dictionary(input_dict)\n",
    "print(\"Inverted Dictionary:\", result)\n"
   ]
  },
  {
   "cell_type": "markdown",
   "id": "45a3925c-ce55-4a82-a36b-4a6b1f98316e",
   "metadata": {},
   "source": [
    "## Thanks for this lovely project."
   ]
  },
  {
   "cell_type": "code",
   "execution_count": null,
   "id": "9b54a65a-cabf-4ded-bbf3-2b6a2ecab35f",
   "metadata": {},
   "outputs": [],
   "source": []
  }
 ],
 "metadata": {
  "kernelspec": {
   "display_name": "Python 3 (ipykernel)",
   "language": "python",
   "name": "python3"
  },
  "language_info": {
   "codemirror_mode": {
    "name": "ipython",
    "version": 3
   },
   "file_extension": ".py",
   "mimetype": "text/x-python",
   "name": "python",
   "nbconvert_exporter": "python",
   "pygments_lexer": "ipython3",
   "version": "3.12.4"
  }
 },
 "nbformat": 4,
 "nbformat_minor": 5
}
